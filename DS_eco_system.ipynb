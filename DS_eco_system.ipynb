{
 "cells": [
  {
   "cell_type": "markdown",
   "id": "f3ec31fd-5d44-43f9-b221-08292e9e77b6",
   "metadata": {},
   "source": [
    "# Data Science Tools and Ecosystem"
   ]
  },
  {
   "cell_type": "markdown",
   "id": "85d58f5f-2afe-4b86-bc2b-4434a0c63c0b",
   "metadata": {},
   "source": [
    "In this notebook, Data Science Tools and Ecosystem are summarized"
   ]
  },
  {
   "cell_type": "markdown",
   "id": "91720f51-3418-47c3-84c7-f3a972c67e19",
   "metadata": {},
   "source": [
    "Some of the popular languages that Data Scientists use are:\n",
    "1. R\n",
    "2. PyThon\n",
    "3. Java"
   ]
  },
  {
   "cell_type": "markdown",
   "id": "4578375f-a5b2-4fef-a425-e7b32901649e",
   "metadata": {},
   "source": [
    "Objectives:\n",
    "- List popular languages for Data Science\n",
    "- Introduction to Jupyter Notebook\n",
    "- Introuction to GitHub"
   ]
  },
  {
   "cell_type": "markdown",
   "id": "adb5d35b-ae50-454b-be7c-57664eac9597",
   "metadata": {},
   "source": [
    "Some of the commonly used libraries used by Data Scientists include:\n",
    "\n",
    "1. Numpy\n",
    "2. Pandas\n",
    "3. TensorFlow"
   ]
  },
  {
   "cell_type": "markdown",
   "id": "2db3cd56-e187-4e52-a426-b56cd3e87f19",
   "metadata": {},
   "source": [
    "| Data Science Tools |\n",
    "|:--------:|\n",
    "|  Apache Spark   |\n",
    "|  Jupyter Notebook   |\n",
    "|  Keras   |"
   ]
  },
  {
   "cell_type": "markdown",
   "id": "b9ee22ec-8728-4a83-9f36-e738e867ab16",
   "metadata": {},
   "source": [
    "### Below are a few examples of evaluating arithmetic expressions in Python"
   ]
  },
  {
   "cell_type": "code",
   "execution_count": 1,
   "id": "c15f3aa7-9a0a-4fd1-b514-3d745d7a10d7",
   "metadata": {},
   "outputs": [
    {
     "data": {
      "text/plain": [
       "17"
      ]
     },
     "execution_count": 1,
     "metadata": {},
     "output_type": "execute_result"
    }
   ],
   "source": [
    "# This a simple arithmetic expression to mutiply then add integers\n",
    "(3*4)+5"
   ]
  },
  {
   "cell_type": "code",
   "execution_count": 2,
   "id": "bf15855b-d980-4c0e-945e-da735629f1bd",
   "metadata": {},
   "outputs": [
    {
     "name": "stdout",
     "output_type": "stream",
     "text": [
      "Hours= 3\n",
      "Minutes= 20\n"
     ]
    }
   ],
   "source": [
    "#  This will convert 200 minutes to hours by diving by 60\n",
    "h=200//60\n",
    "m=200%60\n",
    "print(\"Hours=\",h)\n",
    "print(\"Minutes=\",m)"
   ]
  },
  {
   "cell_type": "markdown",
   "id": "0bb6617a-ffc2-45ce-9bea-d44cedb67404",
   "metadata": {},
   "source": [
    "## Author\n",
    "AmirSaman Rezaei"
   ]
  },
  {
   "cell_type": "code",
   "execution_count": null,
   "id": "a013dcd2-4b06-497e-ad25-8b584cb747bc",
   "metadata": {},
   "outputs": [],
   "source": []
  }
 ],
 "metadata": {
  "kernelspec": {
   "display_name": "Python 3 (ipykernel)",
   "language": "python",
   "name": "python3"
  },
  "language_info": {
   "codemirror_mode": {
    "name": "ipython",
    "version": 3
   },
   "file_extension": ".py",
   "mimetype": "text/x-python",
   "name": "python",
   "nbconvert_exporter": "python",
   "pygments_lexer": "ipython3",
   "version": "3.10.12"
  }
 },
 "nbformat": 4,
 "nbformat_minor": 5
}
